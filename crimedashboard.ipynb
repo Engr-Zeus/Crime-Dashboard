{
 "cells": [
  {
   "cell_type": "code",
   "execution_count": 1,
   "id": "b21ddcb8-d107-41d3-8c08-cf1a403bd635",
   "metadata": {},
   "outputs": [],
   "source": [
    "import os\n",
    "import pandas as pd\n",
    "import matplotlib.pyplot as plt\n",
    "import seaborn as sns\n",
    "from mpl_toolkits.axes_grid1 import make_axes_locatable\n",
    "import plotly.graph_objects as go\n",
    "import plotly.express as px\n",
    "import warnings\n",
    "import dash\n",
    "from dash import dcc, html\n",
    "\n",
    "# Suppress FutureWarning for chained assignment\n",
    "warnings.simplefilter(action='ignore', category=FutureWarning)"
   ]
  },
  {
   "cell_type": "code",
   "execution_count": 2,
   "id": "2450834a-7979-438a-9403-472451e7fb9b",
   "metadata": {},
   "outputs": [],
   "source": [
    "# Directory where the CSV files are located\n",
    "directory = \"Dataset\"\n",
    "\n",
    "# List to store all dataframes\n",
    "dfs = []\n",
    "\n",
    "# Looping through each file in the directory\n",
    "for filename in os.listdir(directory):\n",
    "    if filename.endswith(\".csv\"):\n",
    "        # Load the CSV file into a dataframe\n",
    "        filepath = os.path.join(directory, filename)\n",
    "        df = pd.read_csv(filepath)\n",
    "        # Append the dataframe to the list\n",
    "        dfs.append(df)\n",
    "\n",
    "\n",
    "# Combining all dataframes into a single dataframe\n",
    "combined_df = pd.concat(dfs, ignore_index=True)\n",
    "\n"
   ]
  },
  {
   "cell_type": "code",
   "execution_count": 3,
   "id": "acfc0c3d-5c1a-43b0-9994-5f876a0602e4",
   "metadata": {},
   "outputs": [],
   "source": [
    "# Checking for missing values\n",
    "missing_values = combined_df.isnull().sum()\n",
    "\n",
    "# Drop columns with a large number of missing values\n",
    "combined_df.drop(columns=['Crime ID', 'Last outcome category', 'Context'], inplace=True)\n",
    "\n",
    "# Fill missing values in longitude and latitude with means\n",
    "combined_df['Longitude'].fillna(combined_df['Longitude'].mean(), inplace=True)\n",
    "combined_df['Latitude'].fillna(combined_df['Latitude'].mean(), inplace=True)\n",
    "\n",
    "# Fill missing values in LSOA code and name with mode\n",
    "combined_df['LSOA code'].fillna(combined_df['LSOA code'].mode()[0], inplace=True)\n",
    "combined_df['LSOA name'].fillna(combined_df['LSOA name'].mode()[0], inplace=True)\n",
    "\n",
    "# Verify if missing values are handled\n",
    "missing_values_after = combined_df.isnull().sum()\n",
    "\n"
   ]
  },
  {
   "cell_type": "code",
   "execution_count": 5,
   "id": "2994cbef-93fc-4380-970b-907f55d9582c",
   "metadata": {},
   "outputs": [
    {
     "data": {
      "text/html": [
       "\n",
       "        <iframe\n",
       "            width=\"100%\"\n",
       "            height=\"650\"\n",
       "            src=\"http://127.0.0.1:8050/\"\n",
       "            frameborder=\"0\"\n",
       "            allowfullscreen\n",
       "            \n",
       "        ></iframe>\n",
       "        "
      ],
      "text/plain": [
       "<IPython.lib.display.IFrame at 0x24f96418140>"
      ]
     },
     "metadata": {},
     "output_type": "display_data"
    }
   ],
   "source": [
    "\n",
    "# Initialize the Dash app\n",
    "app = dash.Dash(__name__)\n",
    "\n",
    "# Define the layout of the dashboard\n",
    "app.layout = html.Div([\n",
    "    # Title\n",
    "    html.H1(\"Crime Data Dashboard\"),\n",
    "    \n",
    "    # Scatter plot\n",
    "    dcc.Graph(\n",
    "        id='crime-scatter-plot',\n",
    "        figure=px.scatter(combined_df, x=\"Longitude\", y=\"Latitude\", hover_name=\"Crime type\", color=\"Crime type\").update_layout(title=\"Crime Incidents Scatter Plot\")\n",
    "    ),\n",
    "    \n",
    "    # Histogram\n",
    "    dcc.Graph(\n",
    "        id='crime-histogram',\n",
    "        figure=px.histogram(combined_df, x=\"Crime type\").update_layout(title=\"Crime Types Histogram\")\n",
    "    )\n",
    "])\n",
    "\n",
    "# Run the app\n",
    "if __name__ == '__main__':\n",
    "    app.run_server(debug=True)\n",
    "\n",
    "\n"
   ]
  },
  {
   "cell_type": "code",
   "execution_count": null,
   "id": "5ff6df87-dd70-4097-a275-9b698cf0f5a7",
   "metadata": {},
   "outputs": [],
   "source": []
  }
 ],
 "metadata": {
  "kernelspec": {
   "display_name": "Python 3 (ipykernel)",
   "language": "python",
   "name": "python3"
  },
  "language_info": {
   "codemirror_mode": {
    "name": "ipython",
    "version": 3
   },
   "file_extension": ".py",
   "mimetype": "text/x-python",
   "name": "python",
   "nbconvert_exporter": "python",
   "pygments_lexer": "ipython3",
   "version": "3.12.2"
  }
 },
 "nbformat": 4,
 "nbformat_minor": 5
}
